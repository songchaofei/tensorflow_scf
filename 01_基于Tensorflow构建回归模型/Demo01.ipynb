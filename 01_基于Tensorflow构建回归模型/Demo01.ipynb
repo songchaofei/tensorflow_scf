{
 "cells": [
  {
   "cell_type": "code",
   "execution_count": 43,
   "id": "initial_id",
   "metadata": {
    "collapsed": true,
    "ExecuteTime": {
     "end_time": "2024-03-26T12:50:14.629081300Z",
     "start_time": "2024-03-26T12:50:14.612081400Z"
    }
   },
   "outputs": [],
   "source": [
    "import tensorflow as tf\n",
    "from tensorflow.keras import layers\n",
    "import numpy as np\n",
    "import pandas as pd\n",
    "import matplotlib.pylab as plt"
   ]
  },
  {
   "cell_type": "code",
   "execution_count": 1,
   "outputs": [
    {
     "ename": "NameError",
     "evalue": "name 'pd' is not defined",
     "output_type": "error",
     "traceback": [
      "\u001B[1;31m---------------------------------------------------------------------------\u001B[0m",
      "\u001B[1;31mNameError\u001B[0m                                 Traceback (most recent call last)",
      "\u001B[1;32m~\\AppData\\Local\\Temp/ipykernel_18500/3253478288.py\u001B[0m in \u001B[0;36m<module>\u001B[1;34m\u001B[0m\n\u001B[1;32m----> 1\u001B[1;33m \u001B[0mfeatures\u001B[0m \u001B[1;33m=\u001B[0m \u001B[0mpd\u001B[0m\u001B[1;33m.\u001B[0m\u001B[0mread_csv\u001B[0m\u001B[1;33m(\u001B[0m\u001B[1;34m'../0_resources/temps.csv'\u001B[0m\u001B[1;33m,\u001B[0m \u001B[0musecols\u001B[0m\u001B[1;33m=\u001B[0m\u001B[1;33m[\u001B[0m\u001B[1;34m'year'\u001B[0m\u001B[1;33m,\u001B[0m\u001B[1;34m'month'\u001B[0m\u001B[1;33m,\u001B[0m\u001B[1;34m'day'\u001B[0m\u001B[1;33m,\u001B[0m\u001B[1;34m'week'\u001B[0m\u001B[1;33m,\u001B[0m\u001B[1;34m'temp_2'\u001B[0m\u001B[1;33m,\u001B[0m\u001B[1;34m'temp_1'\u001B[0m\u001B[1;33m,\u001B[0m\u001B[1;34m'average'\u001B[0m\u001B[1;33m,\u001B[0m \u001B[1;34m'actual'\u001B[0m\u001B[1;33m,\u001B[0m \u001B[1;34m'friend'\u001B[0m\u001B[1;33m]\u001B[0m\u001B[1;33m)\u001B[0m\u001B[1;33m\u001B[0m\u001B[1;33m\u001B[0m\u001B[0m\n\u001B[0m\u001B[0;32m      2\u001B[0m \u001B[0mprint\u001B[0m\u001B[1;33m(\u001B[0m\u001B[0mfeatures\u001B[0m\u001B[1;33m.\u001B[0m\u001B[0mshape\u001B[0m\u001B[1;33m)\u001B[0m\u001B[1;33m\u001B[0m\u001B[1;33m\u001B[0m\u001B[0m\n\u001B[0;32m      3\u001B[0m \u001B[0mfeatures\u001B[0m\u001B[1;33m.\u001B[0m\u001B[0minfo\u001B[0m\u001B[1;33m(\u001B[0m\u001B[1;33m)\u001B[0m\u001B[1;33m\u001B[0m\u001B[1;33m\u001B[0m\u001B[0m\n\u001B[0;32m      4\u001B[0m \u001B[1;33m\u001B[0m\u001B[0m\n",
      "\u001B[1;31mNameError\u001B[0m: name 'pd' is not defined"
     ]
    }
   ],
   "source": [
    "features = pd.read_csv('../0_resources/temps.csv', usecols=['year','month','day','week','temp_2','temp_1','average', 'actual', 'friend'])\n",
    "print(features.shape)\n",
    "features.info()"
   ],
   "metadata": {
    "collapsed": false,
    "ExecuteTime": {
     "end_time": "2024-03-26T12:44:59.616659600Z",
     "start_time": "2024-03-26T12:44:59.592661100Z"
    }
   },
   "id": "7d97c40c7a3fa09d"
  },
  {
   "cell_type": "code",
   "execution_count": null,
   "outputs": [],
   "source": [
    "# 处理时间数据\n",
    "import datetime\n",
    "# 分别得到年月日\n",
    "years = features['year']\n",
    "months = features['month']\n",
    "days = features['day']\n",
    "\n",
    "dates = ['{}-{}-{}'.format(year, month, day) for year, month, day in zip(years, months, days)]\n",
    "dates = [datetime.datetime.strptime(date, '%Y-%m-%d') for date in dates]\n",
    "dates[:5]"
   ],
   "metadata": {
    "collapsed": false,
    "ExecuteTime": {
     "end_time": "2024-03-26T12:45:00.189743400Z",
     "start_time": "2024-03-26T12:45:00.179743300Z"
    }
   },
   "id": "55a652e18e03aad3"
  },
  {
   "cell_type": "code",
   "execution_count": null,
   "outputs": [],
   "source": [
    "## 准备画图\n",
    "# 指定默认风格\n",
    "plt.style.use('fivethirtyeight')\n",
    "\n",
    "# 设置布局\n",
    "fig, ((ax1, ax2), (ax3, ax4)) = plt.subplots(nrows=2, ncols=2, figsize=(10, 10))\n",
    "fig.autofmt_xdate(rotation=45)\n",
    "\n",
    "# 标签值\n",
    "ax1.plot(dates, features['actual'])\n",
    "ax1.set_xlabel('')\n",
    "ax1.set_ylabel('Temperature')\n",
    "ax1.set_title('Actual')\n",
    "\n",
    "# 昨天\n",
    "ax2.plot(dates, features['temp_1'])\n",
    "ax2.set_xlabel('')\n",
    "ax2.set_ylabel('Temperature')\n",
    "ax2.set_title('Yesterday Temperature')\n",
    "\n",
    "# 前天\n",
    "ax3.plot(dates, features['temp_2'])\n",
    "ax3.set_xlabel('')\n",
    "ax3.set_ylabel('Temperature')\n",
    "ax3.set_title('2 Days Temperature')\n",
    "\n",
    "# 我的逗比朋友猜的\n",
    "ax4.plot(dates, features['friend'])\n",
    "ax4.set_xlabel('')\n",
    "ax4.set_ylabel('Temperature')\n",
    "ax4.set_title('My Friend Temperature')\n"
   ],
   "metadata": {
    "collapsed": false,
    "ExecuteTime": {
     "end_time": "2024-03-26T12:45:01.723790400Z",
     "start_time": "2024-03-26T12:45:01.028790600Z"
    }
   },
   "id": "77e8b2cd2e8393c6"
  },
  {
   "cell_type": "code",
   "execution_count": null,
   "outputs": [],
   "source": [
    "# 将每周的星期几进行独热编码\n",
    "features = pd.get_dummies(features)\n",
    "features.head()"
   ],
   "metadata": {
    "collapsed": false,
    "ExecuteTime": {
     "end_time": "2024-03-26T12:45:02.364035400Z",
     "start_time": "2024-03-26T12:45:02.342035700Z"
    }
   },
   "id": "518b86dbc3cc9f46"
  },
  {
   "cell_type": "code",
   "execution_count": null,
   "outputs": [],
   "source": [
    "# 获取标签数据\n",
    "labels = np.array(features['actual'])\n",
    "# 在特征中去掉标签\n",
    "features = features.drop(['actual'], axis=1)\n",
    "\n",
    "# 单独保存一下训练特征值的列名\n",
    "features_column = list(features.columns)\n",
    "\n",
    "# 将特征值数据从DataFrame转换成ndarray格式\n",
    "features = np.array(features)"
   ],
   "metadata": {
    "collapsed": false,
    "ExecuteTime": {
     "end_time": "2024-03-26T12:45:04.137106400Z",
     "start_time": "2024-03-26T12:45:04.126106300Z"
    }
   },
   "id": "617dc21ee77d910a"
  },
  {
   "cell_type": "code",
   "execution_count": null,
   "outputs": [],
   "source": [
    "features.shape"
   ],
   "metadata": {
    "collapsed": false,
    "ExecuteTime": {
     "end_time": "2024-03-26T12:45:04.679132200Z",
     "start_time": "2024-03-26T12:45:04.675132Z"
    }
   },
   "id": "6b290b9480277b7c"
  },
  {
   "cell_type": "code",
   "execution_count": null,
   "outputs": [],
   "source": [
    "## 对特征数据做标准化处理\n",
    "from sklearn.preprocessing import StandardScaler\n",
    "\n",
    "ss = StandardScaler()\n",
    "input_features = ss.fit_transform(features)\n",
    "input_features[0]"
   ],
   "metadata": {
    "collapsed": false,
    "ExecuteTime": {
     "end_time": "2024-03-26T12:45:32.293400100Z",
     "start_time": "2024-03-26T12:45:32.278400200Z"
    }
   },
   "id": "eb2d26eaa8c1e6c7"
  },
  {
   "cell_type": "code",
   "execution_count": null,
   "outputs": [],
   "source": [
    "###  构建网络模型"
   ],
   "metadata": {
    "collapsed": false,
    "ExecuteTime": {
     "end_time": "2024-03-26T12:46:58.869166300Z",
     "start_time": "2024-03-26T12:46:58.856166200Z"
    }
   },
   "id": "1287f6f62895555f"
  },
  {
   "cell_type": "code",
   "execution_count": null,
   "outputs": [],
   "source": [
    "# 按顺序构建网络模型\n",
    "model = tf.keras.models.Sequential()\n",
    "model.add(layers.Dense(16))\n",
    "model.add(layers.Dense(32))\n",
    "model.add(layers.Dense(1))"
   ],
   "metadata": {
    "collapsed": false,
    "ExecuteTime": {
     "end_time": "2024-03-26T12:56:03.158924500Z",
     "start_time": "2024-03-26T12:56:03.149924400Z"
    }
   },
   "id": "7f4888603d66c377"
  },
  {
   "cell_type": "code",
   "execution_count": null,
   "outputs": [],
   "source": [
    "# 指定好优化器和损失函数\n",
    "model.compile(optimizer=tf.keras.optimizers.SGD(0.001), loss='mean_squared_error')"
   ],
   "metadata": {
    "collapsed": false,
    "ExecuteTime": {
     "end_time": "2024-03-26T12:56:03.608987Z",
     "start_time": "2024-03-26T12:56:03.587986400Z"
    }
   },
   "id": "ded09e1bdd50c789"
  },
  {
   "cell_type": "code",
   "execution_count": null,
   "outputs": [],
   "source": [
    "# 训练模型\n",
    "model.fit(input_features, labels, epochs=50, batch_size=64, validation_split=0.25)"
   ],
   "metadata": {
    "collapsed": false,
    "ExecuteTime": {
     "end_time": "2024-03-26T12:56:31.802236500Z",
     "start_time": "2024-03-26T12:56:29.791234200Z"
    }
   },
   "id": "79fe256c2661969"
  },
  {
   "cell_type": "code",
   "execution_count": null,
   "outputs": [],
   "source": [
    "# 展示模型的网络结构\n",
    "model.summary()"
   ],
   "metadata": {
    "collapsed": false,
    "ExecuteTime": {
     "end_time": "2024-03-26T12:57:10.792714300Z",
     "start_time": "2024-03-26T12:57:10.760714100Z"
    }
   },
   "id": "d4415bd49bf520cf"
  },
  {
   "cell_type": "code",
   "execution_count": null,
   "outputs": [],
   "source": [
    "# 模型改进1: 添加激活函数\n",
    "model2 = tf.keras.models.Sequential()\n",
    "model2.add(layers.Dense(16))\n",
    "model2.add(layers.Dense(32, activation='relu'))\n",
    "model2.add(layers.Dense(1))\n",
    "\n",
    "# 指定好优化器和损失函数\n",
    "model2.compile(optimizer=tf.keras.optimizers.SGD(0.001), loss='mean_squared_error')\n",
    "\n",
    "# 训练模型\n",
    "model2.fit(input_features, labels, epochs=50, batch_size=64, validation_split=0.25)"
   ],
   "metadata": {
    "collapsed": false,
    "ExecuteTime": {
     "end_time": "2024-03-26T13:00:36.542242600Z",
     "start_time": "2024-03-26T13:00:34.262240500Z"
    }
   },
   "id": "25a7de24c689edb8"
  },
  {
   "cell_type": "code",
   "execution_count": null,
   "outputs": [],
   "source": [
    "# 模型改进2: 更改权重参数初始化方法\n",
    "model3 = tf.keras.models.Sequential()\n",
    "model3.add(layers.Dense(16, kernel_initializer='random_normal'))\n",
    "model3.add(layers.Dense(32, activation='relu', kernel_initializer='random_normal'))\n",
    "model3.add(layers.Dense(1, kernel_initializer='random_normal'))\n",
    "\n",
    "# 指定好优化器和损失函数\n",
    "model3.compile(optimizer=tf.keras.optimizers.SGD(0.001), loss='mean_squared_error')\n",
    "\n",
    "# 训练模型\n",
    "model3.fit(input_features, labels, epochs=50, batch_size=64, validation_split=0.25)"
   ],
   "metadata": {
    "collapsed": false,
    "ExecuteTime": {
     "end_time": "2024-03-26T13:03:42.345017500Z",
     "start_time": "2024-03-26T13:03:39.982015600Z"
    }
   },
   "id": "11546cdb06ba97f5"
  },
  {
   "cell_type": "code",
   "execution_count": null,
   "outputs": [],
   "source": [
    "# 模型改进3: 加入正则化惩罚项\n",
    "model4 = tf.keras.models.Sequential()\n",
    "model4.add(layers.Dense(16, kernel_initializer='random_normal', \n",
    "                        kernel_regularizer=tf.keras.regularizers.l2(0.03)))\n",
    "model4.add(layers.Dense(32, activation='relu', \n",
    "                        kernel_initializer='random_normal', \n",
    "                        kernel_regularizer=tf.keras.regularizers.l2(0.03)))\n",
    "model4.add(layers.Dense(1, kernel_initializer='random_normal',\n",
    "                        kernel_regularizer=tf.keras.regularizers.l2(0.03)))\n",
    "\n",
    "# 指定好优化器和损失函数\n",
    "model4.compile(optimizer=tf.keras.optimizers.SGD(0.001), loss='mean_squared_error')\n",
    "\n",
    "# 训练模型\n",
    "model4.fit(input_features, labels, epochs=50, batch_size=64, validation_split=0.25)"
   ],
   "metadata": {
    "collapsed": false,
    "ExecuteTime": {
     "end_time": "2024-03-26T13:08:43.744393500Z",
     "start_time": "2024-03-26T13:08:41.292347400Z"
    }
   },
   "id": "189fe8a35d59d59c"
  },
  {
   "cell_type": "code",
   "execution_count": null,
   "outputs": [],
   "source": [
    "###  预测模型结果"
   ],
   "metadata": {
    "collapsed": false,
    "ExecuteTime": {
     "end_time": "2024-03-26T13:09:50.580788800Z",
     "start_time": "2024-03-26T13:09:50.565789100Z"
    }
   },
   "id": "d5c965ae447d0e7a"
  },
  {
   "cell_type": "code",
   "execution_count": null,
   "outputs": [],
   "source": [
    "predict = model4.predict(input_features)"
   ],
   "metadata": {
    "collapsed": false,
    "ExecuteTime": {
     "end_time": "2024-03-26T13:10:20.670423700Z",
     "start_time": "2024-03-26T13:10:20.558421100Z"
    }
   },
   "id": "455d2429d091ece"
  },
  {
   "cell_type": "code",
   "execution_count": null,
   "outputs": [],
   "source": [
    "predict.shape"
   ],
   "metadata": {
    "collapsed": false,
    "ExecuteTime": {
     "end_time": "2024-03-26T13:10:31.278442200Z",
     "start_time": "2024-03-26T13:10:31.247443200Z"
    }
   },
   "id": "12c09359b71a6f2c"
  },
  {
   "cell_type": "code",
   "execution_count": null,
   "outputs": [],
   "source": [
    "# 绘图展示\n",
    "dates = ['{}-{}-{}'.format(year, month, day) for year, month, day in zip(years, months, days)]\n",
    "dates = [datetime.datetime.strptime(date, '%Y-%m-%d') for date in dates]\n",
    "\n",
    "# 创建一个表格来存储日期和其对应的标签数值\n",
    "true_data = pd.DataFrame({'date': dates, 'actual': labels})\n",
    "\n",
    "# 同理 再创建一个来存储预测值\n",
    "years = features[:, features_column.index('year')]\n",
    "months = features[:, features_column.index('month')]\n",
    "days = features[:, features_column.index('day')]\n",
    "\n",
    "test_dates = ['{}-{}-{}'.format(year, month, day) for year, month, day in zip(years, months, days)]\n",
    "test_dates = [datetime.datetime.strptime(date, '%Y-%m-%d') for date in test_dates]\n",
    "predictions_data = pd.DataFrame({'date': test_dates, 'prediction': predict.reshape(-1)})"
   ],
   "metadata": {
    "collapsed": false,
    "ExecuteTime": {
     "end_time": "2024-03-26T13:18:26.472072800Z",
     "start_time": "2024-03-26T13:18:26.453072Z"
    }
   },
   "id": "31504e08dad3aaa7"
  },
  {
   "cell_type": "code",
   "execution_count": null,
   "outputs": [],
   "source": [
    "plt.figure(figsize=(10, 10), dpi=100)\n",
    "# 真实值\n",
    "plt.plot(true_data['date'], true_data['actual'], 'b-', label='actual')\n",
    "\n",
    "# 预测值\n",
    "plt.plot(predictions_data['date'], predictions_data['prediction'], 'ro', label='prediction')\n",
    "plt.xticks(rotation=45)\n",
    "plt.legend()"
   ],
   "metadata": {
    "collapsed": false,
    "ExecuteTime": {
     "end_time": "2024-03-26T13:21:25.087584700Z",
     "start_time": "2024-03-26T13:21:24.923582200Z"
    }
   },
   "id": "47cf7057765501ca"
  },
  {
   "cell_type": "code",
   "execution_count": null,
   "outputs": [],
   "source": [],
   "metadata": {
    "collapsed": false
   },
   "id": "be71b67a1b9819b4"
  }
 ],
 "metadata": {
  "kernelspec": {
   "display_name": "Python 3",
   "language": "python",
   "name": "python3"
  },
  "language_info": {
   "codemirror_mode": {
    "name": "ipython",
    "version": 2
   },
   "file_extension": ".py",
   "mimetype": "text/x-python",
   "name": "python",
   "nbconvert_exporter": "python",
   "pygments_lexer": "ipython2",
   "version": "2.7.6"
  }
 },
 "nbformat": 4,
 "nbformat_minor": 5
}