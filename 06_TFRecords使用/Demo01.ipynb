{
 "cells": [
  {
   "cell_type": "code",
   "execution_count": 18,
   "metadata": {
    "collapsed": true
   },
   "outputs": [],
   "source": [
    "import numpy as np\n",
    "import tensorflow as tf"
   ]
  },
  {
   "cell_type": "code",
   "execution_count": 19,
   "outputs": [
    {
     "data": {
      "text/plain": "'\\n在训练模型的时候， 我们可以将模型训练放在GPU上去跑，这样可以提高训练速度\\n但是训练之前的数据处理（读取、清洗、特征工程等操作）阶段，是需要CPU来处理的， 这个阶段我们如果慢下来的话，\\n那么整个过程我们依旧会很慢很慢。\\n为了解决这个问题，Tensorflow官网提供了一个数据结构TFRecords,即一次性将数据存储成该数据结构，\\n后续每次读取的时候只要加载这个结构的数据即可，读取该结构的数据时，速度会很快\\nTFRecords 表示了一整个数据集\\n由tf.train.Example构成 （tf.train.Example表示的是一个样本数据）\\n构造一个TFRecords文件，需要构建若干个tf.train.Example，然后将若干个tf.train.Example写入到一个文件A中，\\n文件A就是一个TFRecords数据集了\\n\\n通常情况下tf.train.Example支持以下几种数据格式:\\ntf.train.BytesList: 可以使用的类型包括string和byte\\ntf.train.FloatList: 可以使用的类型包括float和dubbo\\ntf.train.Int64List: 可以使用的类型包括enum、bool、int32、uint32、int64\\n'"
     },
     "execution_count": 19,
     "metadata": {},
     "output_type": "execute_result"
    }
   ],
   "source": [
    "\"\"\"\n",
    "在训练模型的时候， 我们可以将模型训练放在GPU上去跑，这样可以提高训练速度\n",
    "但是训练之前的数据处理（读取、清洗、特征工程等操作）阶段，是需要CPU来处理的， 这个阶段我们如果慢下来的话，\n",
    "那么整个过程我们依旧会很慢很慢。\n",
    "为了解决这个问题，Tensorflow官网提供了一个数据结构TFRecords,即一次性将数据存储成该数据结构，\n",
    "后续每次读取的时候只要加载这个结构的数据即可，读取该结构的数据时，速度会很快\n",
    "TFRecords 表示了一整个数据集\n",
    "由tf.train.Example构成 （tf.train.Example表示的是一个样本数据）\n",
    "构造一个TFRecords文件，需要构建若干个tf.train.Example，然后将若干个tf.train.Example写入到一个文件A中，\n",
    "文件A就是一个TFRecords数据集了\n",
    "\n",
    "通常情况下tf.train.Example支持以下几种数据格式:\n",
    "tf.train.BytesList: 可以使用的类型包括string和byte\n",
    "tf.train.FloatList: 可以使用的类型包括float和dubbo\n",
    "tf.train.Int64List: 可以使用的类型包括enum、bool、int32、uint32、int64\n",
    "\"\"\""
   ],
   "metadata": {
    "collapsed": false,
    "pycharm": {
     "name": "#%%\n"
    }
   }
  },
  {
   "cell_type": "code",
   "execution_count": 20,
   "outputs": [],
   "source": [
    "# 转化实例\n",
    "def _bytes_feature(value):\n",
    "    if isinstance(value, type(tf.constant(0))):\n",
    "        value = value.numpy()\n",
    "    return tf.train.Feature(bytes_list=tf.train.BytesList(value=[value]))"
   ],
   "metadata": {
    "collapsed": false,
    "pycharm": {
     "name": "#%%\n"
    }
   }
  },
  {
   "cell_type": "code",
   "execution_count": 21,
   "outputs": [],
   "source": [
    "def _float_feature(value):\n",
    "    return tf.train.Feature(float_list=tf.train.FloatList(value=[value]))"
   ],
   "metadata": {
    "collapsed": false,
    "pycharm": {
     "name": "#%%\n"
    }
   }
  },
  {
   "cell_type": "code",
   "execution_count": 22,
   "outputs": [],
   "source": [
    "def _int64_feature(value):\n",
    "    return tf.train.Feature(int64_list=tf.train.Int64List(value=[value]))"
   ],
   "metadata": {
    "collapsed": false,
    "pycharm": {
     "name": "#%%\n"
    }
   }
  },
  {
   "cell_type": "code",
   "execution_count": 24,
   "outputs": [
    {
     "name": "stdout",
     "output_type": "stream",
     "text": [
      "bytes_list {\n",
      "  value: \"test_string\"\n",
      "}\n",
      "\n",
      "bytes_list {\n",
      "  value: \"test_string\"\n",
      "}\n",
      "\n",
      "float_list {\n",
      "  value: 2.7182817459106445\n",
      "}\n",
      "\n",
      "int64_list {\n",
      "  value: 2\n",
      "}\n",
      "\n"
     ]
    }
   ],
   "source": [
    "# 测试上面的三个函数\n",
    "print(_bytes_feature(b'test_string'))\n",
    "print(_bytes_feature('test_string'.encode('utf8')))\n",
    "\n",
    "# 浮点型\n",
    "print(_float_feature(np.exp(1)))\n",
    "\n",
    "# 整数型\n",
    "print(_int64_feature(2))"
   ],
   "metadata": {
    "collapsed": false,
    "pycharm": {
     "name": "#%%\n"
    }
   }
  },
  {
   "cell_type": "code",
   "execution_count": 25,
   "outputs": [],
   "source": [
    "### TFRecords制作方法\n",
    "# 创建tf.train.Example\n",
    "def serialize_example(feature0, feature1, feature2, feature3):\n",
    "    # 转换成相应类型\n",
    "    feature = {\n",
    "        'feature0': _int64_feature(feature0),\n",
    "        'feature1': _int64_feature(feature1),\n",
    "        'feature2': _bytes_feature(feature2),\n",
    "        'feature3': _float_feature(feature3)\n",
    "    }\n",
    "    example = tf.train.Example(features=tf.train.Features(feature=feature))\n",
    "    return example.SerializeToString()"
   ],
   "metadata": {
    "collapsed": false,
    "pycharm": {
     "name": "#%%\n"
    }
   }
  },
  {
   "cell_type": "code",
   "execution_count": 27,
   "outputs": [],
   "source": [
    "# 数据量\n",
    "n_observations = int(1e4)\n",
    "\n",
    "# Boolean features\n",
    "feature0 = np.random.choice([False, True], n_observations)\n",
    "# Integer\n",
    "feature1 = np.random.randint(0, 5, n_observations)\n",
    "# String\n",
    "strings = np.array([b'cat', b'dog', b'chicken', b'horse', b'goat'])\n",
    "feature2 = strings[feature1]\n",
    "# Float\n",
    "feature3 = np.random.randn(n_observations)"
   ],
   "metadata": {
    "collapsed": false,
    "pycharm": {
     "name": "#%%\n"
    }
   }
  },
  {
   "cell_type": "code",
   "execution_count": 35,
   "outputs": [
    {
     "name": "stderr",
     "output_type": "stream",
     "text": [
      "C:\\Users\\songc\\AppData\\Local\\Temp/ipykernel_16268/3454670613.py:2: DeprecationWarning: In future, it will be an error for 'np.bool_' scalars to be interpreted as an index\n",
      "  return tf.train.Feature(int64_list=tf.train.Int64List(value=[value]))\n"
     ]
    }
   ],
   "source": [
    "# 写入文件\n",
    "filename='tfrecord-1'\n",
    "with tf.io.TFRecordWriter(filename) as writer:\n",
    "    for i in range(n_observations):\n",
    "        example = serialize_example(feature0[i], feature1[i], feature2[i], feature3[i])\n",
    "        writer.write(example)"
   ],
   "metadata": {
    "collapsed": false,
    "pycharm": {
     "name": "#%%\n"
    }
   }
  },
  {
   "cell_type": "code",
   "execution_count": 38,
   "outputs": [
    {
     "data": {
      "text/plain": "<TFRecordDatasetV2 element_spec=TensorSpec(shape=(), dtype=tf.string, name=None)>"
     },
     "execution_count": 38,
     "metadata": {},
     "output_type": "execute_result"
    }
   ],
   "source": [
    "# 读取TFRecords文件\n",
    "filenames = [filename]\n",
    "# 读取文件\n",
    "row_dataset = tf.data.TFRecordDataset(filenames)\n",
    "row_dataset"
   ],
   "metadata": {
    "collapsed": false,
    "pycharm": {
     "name": "#%%\n"
    }
   }
  }
 ],
 "metadata": {
  "kernelspec": {
   "name": "pycharm-43352058",
   "language": "python",
   "display_name": "PyCharm (py_ml)"
  },
  "language_info": {
   "codemirror_mode": {
    "name": "ipython",
    "version": 2
   },
   "file_extension": ".py",
   "mimetype": "text/x-python",
   "name": "python",
   "nbconvert_exporter": "python",
   "pygments_lexer": "ipython2",
   "version": "2.7.6"
  }
 },
 "nbformat": 4,
 "nbformat_minor": 0
}